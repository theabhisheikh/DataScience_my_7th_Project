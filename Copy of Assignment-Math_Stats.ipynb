{
 "cells": [
  {
   "cell_type": "code",
   "execution_count": null,
   "metadata": {
    "id": "dd0cf1b5"
   },
   "outputs": [],
   "source": []
  },
  {
   "cell_type": "markdown",
   "metadata": {
    "id": "07c8c0b2"
   },
   "source": [
    "\n",
    "### 1. Find the Cartesian Product of the below given sets in the below cell. (In Python Code)\n",
    "\n",
    "A = set(['a','b','c'])\n",
    "\n",
    "S = {1,2,3}\n"
   ]
  },
  {
   "cell_type": "code",
   "execution_count": 1,
   "metadata": {
    "id": "8b2078fa"
   },
   "outputs": [
    {
     "name": "stdout",
     "output_type": "stream",
     "text": [
      "[('a', 3), ('b', 1), ('c', 2), ('a', 2), ('b', 3), ('b', 2), ('a', 2), ('c', 3), ('a', 3)]\n"
     ]
    }
   ],
   "source": [
    "from scipy.stats import rv_discrete\n",
    "\n",
    "A = set(['a', 'b', 'c'])\n",
    "S = {1, 2, 3}\n",
    "\n",
    "rv_A = rv_discrete(values=(range(len(A)), [1/len(A)] * len(A)))\n",
    "rv_S = rv_discrete(values=(list(S), [1/len(S)] * len(S)))\n",
    "\n",
    "sample_A = rv_A.rvs(size=len(A)*len(S))\n",
    "sample_S = rv_S.rvs(size=len(A)*len(S))\n",
    "\n",
    "cartesian_product = [(list(A)[sample_A[i]], sample_S[i]) for i in range(len(A)*len(S))]\n",
    "\n",
    "print(cartesian_product)\n"
   ]
  },
  {
   "cell_type": "markdown",
   "metadata": {
    "id": "3d43b9ee"
   },
   "source": [
    "### 2. Find all the possible permutations and number of permutations of A\n",
    "\n",
    "A = {'Red','Green','Blue'}\n"
   ]
  },
  {
   "cell_type": "code",
   "execution_count": 2,
   "metadata": {
    "id": "52c18588"
   },
   "outputs": [
    {
     "name": "stdout",
     "output_type": "stream",
     "text": [
      "All permutations:\n",
      "[('Green', 'Blue', 'Red'), ('Green', 'Red', 'Blue'), ('Blue', 'Green', 'Red'), ('Blue', 'Red', 'Green'), ('Red', 'Green', 'Blue'), ('Red', 'Blue', 'Green')]\n",
      "\n",
      "Total number of permutations: 6\n"
     ]
    }
   ],
   "source": [
    "from itertools import permutations\n",
    "from math import factorial\n",
    "\n",
    "A = {'Red', 'Green', 'Blue'}\n",
    "\n",
    "alls = list(permutations(A))\n",
    "\n",
    "total = factorial(len(A))\n",
    "\n",
    "print(\"All permutations:\")\n",
    "print(alls)\n",
    "\n",
    "print(\"\\nTotal number of permutations:\", total)\n"
   ]
  },
  {
   "cell_type": "code",
   "execution_count": null,
   "metadata": {
    "id": "51509b5e"
   },
   "outputs": [],
   "source": []
  },
  {
   "cell_type": "markdown",
   "metadata": {
    "id": "637ffa24"
   },
   "source": [
    "### 3. Research Question on Hypothesis Testing\n",
    "\n",
    "In previous years, 52% of parents believed that electronics and social media was the cause of their teenager’s lack of sleep. Do more parents today believe that their teenager’s lack of sleep is caused due to electronics and social media?\n",
    "\n",
    "**Population**: Parents with a teenager (age 13-18)  \n",
    "**Parameter of Interest**: p  \n",
    "\n",
    "**Null Hypothesis:** p = 0.52  \n",
    "**Alternative Hypthosis:** p > 0.52 (note that this is a one-sided test)\n",
    "\n",
    "**Data**: 1018 people were surveyed. 56% of those who were surveyed believe that their teenager’s lack of sleep is caused due to electronics and social media."
   ]
  },
  {
   "cell_type": "markdown",
   "metadata": {
    "id": "4786f83f"
   },
   "source": [
    "### Hint: Use  `proportions_ztest()` from `statsmodels`\n",
    "\n",
    "Note the argument `alternative=\"larger\"` indicating a one-sided test. The function returns two values - the z-statistic and the corresponding p-value."
   ]
  },
  {
   "cell_type": "code",
   "execution_count": 3,
   "metadata": {
    "id": "475fe79a"
   },
   "outputs": [
    {
     "name": "stdout",
     "output_type": "stream",
     "text": [
      "Z-statistic: 2.5711\n",
      "P-value: 0.0051\n",
      "The p-value (0.0051) is less than the significance level (0.05). Reject the null hypothesis.\n"
     ]
    }
   ],
   "source": [
    "import statsmodels.api as sm\n",
    "\n",
    "\n",
    "n = 1018  \n",
    "x = 0.56 * n  \n",
    "\n",
    "p_null = 0.52  \n",
    "alternative = 'larger'  \n",
    "\n",
    "\n",
    "z_stat, p_value = sm.stats.proportions_ztest(x, n, p_null, alternative=alternative)\n",
    "\n",
    "\n",
    "print(f'Z-statistic: {z_stat:.4f}')\n",
    "print(f'P-value: {p_value:.4f}')\n",
    "\n",
    "\n",
    "alpha = 0.05  \n",
    "if p_value < alpha:\n",
    "    print(f'The p-value ({p_value:.4f}) is less than the significance level ({alpha}). Reject the null hypothesis.')\n",
    "else:\n",
    "    print(f'The p-value ({p_value:.4f}) is greater than the significance level ({alpha}). Fail to reject the null hypothesis.')\n"
   ]
  },
  {
   "cell_type": "markdown",
   "metadata": {
    "id": "e64e5437"
   },
   "source": [
    "### What is your Conclusion of the hypothesis test\n"
   ]
  },
  {
   "cell_type": "markdown",
   "metadata": {
    "id": "4da83967"
   },
   "source": [
    "Since the p-value is less than 0.05 (typically chosen significance level), we reject the null hypothesis. This means that there is evidence to suggest that more parents today believe that their teenager's lack of sleep is caused by electronics and social media compared to previous years."
   ]
  },
  {
   "cell_type": "markdown",
   "metadata": {
    "id": "4503f17c"
   },
   "source": [
    "### 4. Calculate the set difference between the 2 sets (set1 - multipes of 3 upto a range of 31 and set2 - multiples of upto a range of 31)"
   ]
  },
  {
   "cell_type": "code",
   "execution_count": 6,
   "metadata": {
    "id": "d2760c77"
   },
   "outputs": [
    {
     "name": "stdout",
     "output_type": "stream",
     "text": [
      "Set1 Difference:\n",
      "{1, 2, 4, 5, 7, 8, 10, 11, 13, 14, 16, 17, 19, 20, 22, 23, 25, 26, 28, 29, 31}\n"
     ]
    }
   ],
   "source": [
    "range_limit = 31\n",
    "\n",
    "multiples_of_3 = set(range(3, range_limit+1, 3))\n",
    "all_multiples = set(range(1, range_limit+1))\n",
    "\n",
    "set1 = all_multiples\n",
    "set2 = multiples_of_3\n",
    "\n",
    "set1_difference = set1 - set2\n",
    "\n",
    "print(\"Set1 Difference:\")\n",
    "print(set1_difference)\n"
   ]
  },
  {
   "cell_type": "code",
   "execution_count": 7,
   "metadata": {
    "id": "b10dc469"
   },
   "outputs": [
    {
     "name": "stdout",
     "output_type": "stream",
     "text": [
      "Set2 Difference:\n",
      "set()\n"
     ]
    }
   ],
   "source": [
    "set2_difference = set2 - set1\n",
    "\n",
    "print(\"Set2 Difference:\")\n",
    "print(set2_difference)\n"
   ]
  },
  {
   "cell_type": "markdown",
   "metadata": {
    "id": "796c2e91"
   },
   "source": [
    "### 5. Calculate a function to generate random arrays with range of (1,100) and the naive functions to calculate Mean, Varience and Standard deviation for the array generated"
   ]
  },
  {
   "cell_type": "code",
   "execution_count": 8,
   "metadata": {
    "id": "9c7a2930"
   },
   "outputs": [
    {
     "name": "stdout",
     "output_type": "stream",
     "text": [
      "Random Array: [14, 92, 68, 58, 22, 9, 93, 100, 8, 23]\n",
      "Mean: 48.7\n",
      "Variance: 1273.81\n",
      "Standard Deviation: 35.690474919787775\n"
     ]
    }
   ],
   "source": [
    "import random\n",
    "import math\n",
    "\n",
    "def generate_random_array(size):\n",
    "    return [random.randint(1, 100) for _ in range(size)]\n",
    "\n",
    "def calculate_mean(arr):\n",
    "    return sum(arr) / len(arr)\n",
    "\n",
    "def calculate_variance(arr):\n",
    "    mean = calculate_mean(arr)\n",
    "    return sum((x - mean) ** 2 for x in arr) / len(arr)\n",
    "\n",
    "def calculate_standard_deviation(arr):\n",
    "    return math.sqrt(calculate_variance(arr))\n",
    "\n",
    "random_array = generate_random_array(10)\n",
    "\n",
    "mean = calculate_mean(random_array)\n",
    "variance = calculate_variance(random_array)\n",
    "std_deviation = calculate_standard_deviation(random_array)\n",
    "\n",
    "print(f\"Random Array: {random_array}\")\n",
    "print(f\"Mean: {mean}\")\n",
    "print(f\"Variance: {variance}\")\n",
    "print(f\"Standard Deviation: {std_deviation}\")\n"
   ]
  },
  {
   "cell_type": "code",
   "execution_count": null,
   "metadata": {
    "id": "d9df5a6b"
   },
   "outputs": [],
   "source": []
  },
  {
   "cell_type": "code",
   "execution_count": null,
   "metadata": {},
   "outputs": [],
   "source": []
  }
 ],
 "metadata": {
  "colab": {
   "provenance": []
  },
  "kernelspec": {
   "display_name": "Python 3",
   "language": "python",
   "name": "python3"
  },
  "language_info": {
   "codemirror_mode": {
    "name": "ipython",
    "version": 3
   },
   "file_extension": ".py",
   "mimetype": "text/x-python",
   "name": "python",
   "nbconvert_exporter": "python",
   "pygments_lexer": "ipython3",
   "version": "3.7.6"
  }
 },
 "nbformat": 4,
 "nbformat_minor": 5
}
